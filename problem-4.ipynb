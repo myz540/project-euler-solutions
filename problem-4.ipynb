{
 "cells": [
  {
   "cell_type": "code",
   "execution_count": 29,
   "metadata": {},
   "outputs": [],
   "source": [
    "import time\n",
    "from itertools import product"
   ]
  },
  {
   "cell_type": "markdown",
   "metadata": {},
   "source": [
    "### Problem 4\n",
    "A palindromic number reads the same both ways. The largest palindrome made from the product of two 2-digit numbers is 9009 = 91 × 99.\n",
    "\n",
    "Find the largest palindrome made from the product of two 3-digit numbers."
   ]
  },
  {
   "cell_type": "code",
   "execution_count": 30,
   "metadata": {},
   "outputs": [],
   "source": [
    "def is_palindrome(string):\n",
    "    \n",
    "    string = str(string)\n",
    "    \n",
    "    start = 0\n",
    "    end = len(string) - 1\n",
    "    \n",
    "    while start <= end:\n",
    "        \n",
    "        if string[start] != string[end]:\n",
    "            \n",
    "            return False\n",
    "        \n",
    "        else:\n",
    "            start += 1\n",
    "            end -=1\n",
    "            \n",
    "    return True"
   ]
  },
  {
   "cell_type": "code",
   "execution_count": 49,
   "metadata": {},
   "outputs": [],
   "source": [
    "def main():\n",
    "    \n",
    "    # make two lists of all three digit numbers\n",
    "    list_a = list_b = [i for i in range(999, 99, -1)]\n",
    "    \n",
    "    # a list to store palindromes\n",
    "    contenders = []\n",
    " \n",
    "    # iterate through cross product of the two lists\n",
    "    for a, b in product(list_a, list_b):\n",
    "        \n",
    "        # save contenders\n",
    "        if is_palindrome(a*b):\n",
    "            contenders.append(a*b)\n",
    "    \n",
    "    # return the largest\n",
    "    return max(contenders)\n",
    "            \n",
    "       "
   ]
  },
  {
   "cell_type": "code",
   "execution_count": 50,
   "metadata": {},
   "outputs": [
    {
     "data": {
      "text/plain": [
       "906609"
      ]
     },
     "execution_count": 50,
     "metadata": {},
     "output_type": "execute_result"
    }
   ],
   "source": [
    "main()"
   ]
  },
  {
   "cell_type": "code",
   "execution_count": null,
   "metadata": {},
   "outputs": [],
   "source": []
  }
 ],
 "metadata": {
  "kernelspec": {
   "display_name": "Python 3",
   "language": "python",
   "name": "python3"
  },
  "language_info": {
   "codemirror_mode": {
    "name": "ipython",
    "version": 3
   },
   "file_extension": ".py",
   "mimetype": "text/x-python",
   "name": "python",
   "nbconvert_exporter": "python",
   "pygments_lexer": "ipython3",
   "version": "3.6.5"
  }
 },
 "nbformat": 4,
 "nbformat_minor": 2
}

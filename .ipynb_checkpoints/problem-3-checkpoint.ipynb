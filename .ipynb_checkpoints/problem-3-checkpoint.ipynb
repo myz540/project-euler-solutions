{
 "cells": [
  {
   "cell_type": "code",
   "execution_count": 1,
   "metadata": {},
   "outputs": [],
   "source": [
    "import time"
   ]
  },
  {
   "cell_type": "markdown",
   "metadata": {},
   "source": [
    "### Problem 3\n",
    "The prime factors of 13195 are 5, 7, 13 and 29.\n",
    "\n",
    "What is the largest prime factor of the number 600851475143?"
   ]
  },
  {
   "cell_type": "code",
   "execution_count": 2,
   "metadata": {},
   "outputs": [
    {
     "data": {
      "text/plain": [
       "300425737571"
      ]
     },
     "execution_count": 2,
     "metadata": {},
     "output_type": "execute_result"
    }
   ],
   "source": [
    "x = 600851475143\n",
    "max_fact = x // 2\n",
    "max_fact"
   ]
  },
  {
   "cell_type": "code",
   "execution_count": 18,
   "metadata": {},
   "outputs": [],
   "source": [
    "def get_max_prime_factor(x):\n",
    "    \n",
    "    # initialize the largest prime factor to 2\n",
    "    lpf = 2\n",
    "    \n",
    "    # while x is larger than your current lpf\n",
    "    while x > lpf:\n",
    "        \n",
    "        # if x is divisible by lpf\n",
    "        # set x to that quotient and reset lpf = 2\n",
    "        if x % lpf == 0:\n",
    "            \n",
    "            x = x / lpf\n",
    "            lpf = 2\n",
    "        \n",
    "        # if x is not divisible by lpf, increment lpf\n",
    "        else:\n",
    "            lpf += 1;\n",
    "            \n",
    "    # eventually, x will only be divisible by itself, at which point, that value is the max prime factor\n",
    "    return lpf"
   ]
  },
  {
   "cell_type": "code",
   "execution_count": 19,
   "metadata": {},
   "outputs": [
    {
     "data": {
      "text/plain": [
       "6857"
      ]
     },
     "execution_count": 19,
     "metadata": {},
     "output_type": "execute_result"
    }
   ],
   "source": [
    "get_max_prime_factor(x)"
   ]
  }
 ],
 "metadata": {
  "kernelspec": {
   "display_name": "Python 3",
   "language": "python",
   "name": "python3"
  },
  "language_info": {
   "codemirror_mode": {
    "name": "ipython",
    "version": 3
   },
   "file_extension": ".py",
   "mimetype": "text/x-python",
   "name": "python",
   "nbconvert_exporter": "python",
   "pygments_lexer": "ipython3",
   "version": "3.6.5"
  }
 },
 "nbformat": 4,
 "nbformat_minor": 2
}
